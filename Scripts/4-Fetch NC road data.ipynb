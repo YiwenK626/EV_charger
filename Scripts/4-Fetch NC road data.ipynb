{
 "cells": [
  {
   "cell_type": "markdown",
   "metadata": {},
   "source": [
    "## Data Fetching Step 4 \n",
    "This script fetches NC road data and prepares for . \n",
    "\n",
    "1. fetch data from open street map \n",
    "\n",
    "2. fitler data points with requirements of state, type, etc. \n",
    "\n",
    "3. save the data as graphml file and shp file \n",
    "\n",
    "<i>Yiwen Wang | 04/27/2020</i>"
   ]
  },
  {
   "cell_type": "code",
   "execution_count": 1,
   "metadata": {},
   "outputs": [],
   "source": [
    "import osmnx as ox"
   ]
  },
  {
   "cell_type": "markdown",
   "metadata": {},
   "source": [
    "Keys: https://wiki.openstreetmap.org/wiki/Key:highway#Roads"
   ]
  },
  {
   "cell_type": "code",
   "execution_count": 3,
   "metadata": {},
   "outputs": [],
   "source": [
    "#Filter the highways with requirements of state, type, etc. \n",
    "highways = ox.graph_from_place('North Carolina',\n",
    "                               network_type='drive',\n",
    "                               simplify=True,\n",
    "                               retain_all=False,\n",
    "                               truncate_by_edge=True,\n",
    "                               infrastructure='way[\"highway\"~\"motorway|primary\"]')"
   ]
  },
  {
   "cell_type": "code",
   "execution_count": 3,
   "metadata": {},
   "outputs": [],
   "source": [
    "#Save data as graphml and shp files\n",
    "ox.save_graphml(highways,filename='NC_roads.graphml',folder='../Data/OSM')\n",
    "ox.save_graph_shapefile(highways,filename='NC_roads',folder='../Data/OSM')"
   ]
  }
 ],
 "metadata": {
  "kernelspec": {
   "display_name": "Python 3",
   "language": "python",
   "name": "python3"
  },
  "language_info": {
   "codemirror_mode": {
    "name": "ipython",
    "version": 3
   },
   "file_extension": ".py",
   "mimetype": "text/x-python",
   "name": "python",
   "nbconvert_exporter": "python",
   "pygments_lexer": "ipython3",
   "version": "3.7.3"
  }
 },
 "nbformat": 4,
 "nbformat_minor": 4
}
