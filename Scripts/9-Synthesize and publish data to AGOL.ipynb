{
 "cells": [
  {
   "cell_type": "markdown",
   "metadata": {},
   "source": [
    "This script joins exits with different filters and uploads data outputs of previous scripts to AGOL.\n",
    "\n",
    "Exits subsets:\n",
    "\n",
    "* Exits, tagged with flood hazard zone data\n",
    "* Exits, tagged with distance from electric substation\n",
    "* Exits, tagged with Euclidean distance to nearest DC fast charger location\n",
    "* Exits, tagged with # of amenities within 1 mile\n",
    "* Exits, tagged with Drive time distance to nearest DC fast charger location\n",
    "\n",
    "*Yiwen Wang | 04/27/2020*\n"
   ]
  },
  {
   "cell_type": "markdown",
   "metadata": {},
   "source": [
    "#### Import packages and create an authenticated link to your AGOL account"
   ]
  },
  {
   "cell_type": "code",
   "execution_count": 2,
   "metadata": {},
   "outputs": [],
   "source": [
    "#Ignore warnings\n",
    "import warnings\n",
    "warnings.simplefilter('ignore')"
   ]
  },
  {
   "cell_type": "code",
   "execution_count": 3,
   "metadata": {},
   "outputs": [],
   "source": [
    "#Load packages\n",
    "from arcgis import GIS\n",
    "import pandas as pd\n",
    "from arcgis.features import GeoAccessor"
   ]
  },
  {
   "cell_type": "code",
   "execution_count": 4,
   "metadata": {},
   "outputs": [
    {
     "name": "stdout",
     "output_type": "stream",
     "text": [
      "Enter password: ········\n"
     ]
    }
   ],
   "source": [
    "#Authenticate our GIS object\n",
    "gis = GIS(url='https://NSOE.maps.arcgis.com',username='yw377_790')"
   ]
  },
  {
   "cell_type": "markdown",
   "metadata": {},
   "source": [
    "#### Import, tidy, and join datasets\n",
    "Join each separate exit attribute to a single \"master\" feature class with FID."
   ]
  },
  {
   "cell_type": "code",
   "execution_count": 5,
   "metadata": {},
   "outputs": [],
   "source": [
    "#Read local datasets into spatial dataframes\n",
    "sdf_Exits = GeoAccessor.from_featureclass('../Data/MJBA/Exits.shp')\n",
    "sdf_floods = GeoAccessor.from_featureclass('../Data/MJBA/exits_flood.shp')\n",
    "sdf_EucDist = GeoAccessor.from_featureclass('../Data/MJBA/Exits_distance_to_DCFC.shp')\n",
    "sdf_AmenityCount = GeoAccessor.from_featureclass('../Data/MJBA/exits_amenities.shp')\n",
    "sdf_DriveDist = GeoAccessor.from_featureclass('../Data/exits_distance.shp')\n",
    "sdf_substations = GeoAccessor.from_featureclass('../Data/MJBA/Exits_distance_to_substations.shp')"
   ]
  },
  {
   "cell_type": "code",
   "execution_count": 6,
   "metadata": {},
   "outputs": [],
   "source": [
    "#Subset fields from the Exits feature class and set FID to the index\n",
    "sdf_Exits = sdf_Exits[['FID','Longitude', 'Latitude', 'County', 'State','SHAPE']].set_index('FID')"
   ]
  },
  {
   "cell_type": "code",
   "execution_count": 7,
   "metadata": {},
   "outputs": [],
   "source": [
    "#Extract just the FID and meaningful attribute, setting the index to FID\n",
    "sdf_floods = sdf_floods[['FID','Flood_Zone']].set_index('FID')\n",
    "sdf_EucDist = sdf_EucDist[['FID','Dist_to_DC']].set_index('FID')\n",
    "sdf_AmenityCount = sdf_AmenityCount[['FID','amenities#']].set_index('FID')\n",
    "sdf_DriveDist = sdf_DriveDist[['FID','distance']].set_index('FID')\n",
    "sdf_substations = sdf_substations[['FID','Dist_to_su']].set_index('FID')"
   ]
  },
  {
   "cell_type": "code",
   "execution_count": 8,
   "metadata": {},
   "outputs": [],
   "source": [
    "#Merge all datasets into a single exit dataset\n",
    "sdf_Master = pd.merge(left=sdf_Exits,right=sdf_floods,how='left',left_index=True,right_index=True)\n",
    "sdf_Master = pd.merge(left=sdf_Master,right=sdf_EucDist,how='left',left_index=True,right_index=True)\n",
    "sdf_Master = pd.merge(left=sdf_Master,right=sdf_AmenityCount,how='left',left_index=True,right_index=True)\n",
    "sdf_Master = pd.merge(left=sdf_Master,right=sdf_DriveDist,how='left',left_index=True,right_index=True)\n",
    "sdf_Master = pd.merge(left=sdf_Master,right=sdf_substations,how='left',left_index=True,right_index=True)"
   ]
  },
  {
   "cell_type": "code",
   "execution_count": 9,
   "metadata": {},
   "outputs": [
    {
     "data": {
      "text/html": [
       "<div>\n",
       "<style scoped>\n",
       "    .dataframe tbody tr th:only-of-type {\n",
       "        vertical-align: middle;\n",
       "    }\n",
       "\n",
       "    .dataframe tbody tr th {\n",
       "        vertical-align: top;\n",
       "    }\n",
       "\n",
       "    .dataframe thead th {\n",
       "        text-align: right;\n",
       "    }\n",
       "</style>\n",
       "<table border=\"1\" class=\"dataframe\">\n",
       "  <thead>\n",
       "    <tr style=\"text-align: right;\">\n",
       "      <th></th>\n",
       "      <th>Longitude</th>\n",
       "      <th>Latitude</th>\n",
       "      <th>County</th>\n",
       "      <th>State</th>\n",
       "      <th>SHAPE</th>\n",
       "      <th>Flood_Zone</th>\n",
       "      <th>Dist_to_DC</th>\n",
       "      <th>amenities#</th>\n",
       "      <th>distance</th>\n",
       "      <th>Dist_to_su</th>\n",
       "    </tr>\n",
       "    <tr>\n",
       "      <th>FID</th>\n",
       "      <th></th>\n",
       "      <th></th>\n",
       "      <th></th>\n",
       "      <th></th>\n",
       "      <th></th>\n",
       "      <th></th>\n",
       "      <th></th>\n",
       "      <th></th>\n",
       "      <th></th>\n",
       "      <th></th>\n",
       "    </tr>\n",
       "  </thead>\n",
       "  <tbody>\n",
       "    <tr>\n",
       "      <th>7059</th>\n",
       "      <td>-84.314304</td>\n",
       "      <td>35.019492</td>\n",
       "      <td>Cherokee</td>\n",
       "      <td>NC</td>\n",
       "      <td>{'x': -84.31430368976345, 'y': 35.019491849669...</td>\n",
       "      <td>Area of Minimal Flood Hazard</td>\n",
       "      <td>102</td>\n",
       "      <td>0</td>\n",
       "      <td>NaN</td>\n",
       "      <td>5</td>\n",
       "    </tr>\n",
       "    <tr>\n",
       "      <th>7060</th>\n",
       "      <td>-84.311492</td>\n",
       "      <td>35.014933</td>\n",
       "      <td>Cherokee</td>\n",
       "      <td>NC</td>\n",
       "      <td>{'x': -84.31149165991212, 'y': 35.014933379571...</td>\n",
       "      <td>Area of Minimal Flood Hazard</td>\n",
       "      <td>102</td>\n",
       "      <td>0</td>\n",
       "      <td>NaN</td>\n",
       "      <td>5</td>\n",
       "    </tr>\n",
       "    <tr>\n",
       "      <th>7061</th>\n",
       "      <td>-84.295528</td>\n",
       "      <td>35.013561</td>\n",
       "      <td>Cherokee</td>\n",
       "      <td>NC</td>\n",
       "      <td>{'x': -84.29552778977563, 'y': 35.013560589649...</td>\n",
       "      <td>Area of Minimal Flood Hazard</td>\n",
       "      <td>102</td>\n",
       "      <td>0</td>\n",
       "      <td>NaN</td>\n",
       "      <td>5</td>\n",
       "    </tr>\n",
       "    <tr>\n",
       "      <th>7062</th>\n",
       "      <td>-84.280291</td>\n",
       "      <td>35.012880</td>\n",
       "      <td>Cherokee</td>\n",
       "      <td>NC</td>\n",
       "      <td>{'x': -84.28029090010494, 'y': 35.012879950349...</td>\n",
       "      <td>Area of Minimal Flood Hazard</td>\n",
       "      <td>101</td>\n",
       "      <td>0</td>\n",
       "      <td>NaN</td>\n",
       "      <td>4</td>\n",
       "    </tr>\n",
       "    <tr>\n",
       "      <th>7063</th>\n",
       "      <td>-84.275190</td>\n",
       "      <td>35.017816</td>\n",
       "      <td>Cherokee</td>\n",
       "      <td>NC</td>\n",
       "      <td>{'x': -84.27519011992803, 'y': 35.017816120417...</td>\n",
       "      <td>Area of Minimal Flood Hazard</td>\n",
       "      <td>100</td>\n",
       "      <td>0</td>\n",
       "      <td>NaN</td>\n",
       "      <td>3</td>\n",
       "    </tr>\n",
       "  </tbody>\n",
       "</table>\n",
       "</div>"
      ],
      "text/plain": [
       "      Longitude   Latitude    County State  \\\n",
       "FID                                          \n",
       "7059 -84.314304  35.019492  Cherokee    NC   \n",
       "7060 -84.311492  35.014933  Cherokee    NC   \n",
       "7061 -84.295528  35.013561  Cherokee    NC   \n",
       "7062 -84.280291  35.012880  Cherokee    NC   \n",
       "7063 -84.275190  35.017816  Cherokee    NC   \n",
       "\n",
       "                                                  SHAPE  \\\n",
       "FID                                                       \n",
       "7059  {'x': -84.31430368976345, 'y': 35.019491849669...   \n",
       "7060  {'x': -84.31149165991212, 'y': 35.014933379571...   \n",
       "7061  {'x': -84.29552778977563, 'y': 35.013560589649...   \n",
       "7062  {'x': -84.28029090010494, 'y': 35.012879950349...   \n",
       "7063  {'x': -84.27519011992803, 'y': 35.017816120417...   \n",
       "\n",
       "                        Flood_Zone  Dist_to_DC  amenities#  distance  \\\n",
       "FID                                                                    \n",
       "7059  Area of Minimal Flood Hazard         102           0       NaN   \n",
       "7060  Area of Minimal Flood Hazard         102           0       NaN   \n",
       "7061  Area of Minimal Flood Hazard         102           0       NaN   \n",
       "7062  Area of Minimal Flood Hazard         101           0       NaN   \n",
       "7063  Area of Minimal Flood Hazard         100           0       NaN   \n",
       "\n",
       "      Dist_to_su  \n",
       "FID               \n",
       "7059           5  \n",
       "7060           5  \n",
       "7061           5  \n",
       "7062           4  \n",
       "7063           3  "
      ]
     },
     "execution_count": 9,
     "metadata": {},
     "output_type": "execute_result"
    }
   ],
   "source": [
    "sdf_Master.head()"
   ]
  },
  {
   "cell_type": "code",
   "execution_count": 10,
   "metadata": {},
   "outputs": [],
   "source": [
    "#Rename columns\n",
    "sdf_Master.rename(columns={'Dist_to_DC':'Mi_to_DCFC',\n",
    "                           'distance':'RdMi_to_DCFC',\n",
    "                           'Dist_to_su':'Dist_to_substations'},inplace=True)"
   ]
  },
  {
   "cell_type": "code",
   "execution_count": 58,
   "metadata": {},
   "outputs": [
    {
     "data": {
      "text/plain": [
       "'../Data/Exits_final.shp'"
      ]
     },
     "execution_count": 58,
     "metadata": {},
     "output_type": "execute_result"
    }
   ],
   "source": [
    "#Optional: Save to a new local shapefile\n",
    "sdf_Master.spatial.to_featureclass('../Data/Exits_final.shp')"
   ]
  },
  {
   "cell_type": "markdown",
   "metadata": {},
   "source": [
    "### Publish datasets to ArcGIS Online account\n",
    "\n",
    "* the NREL DCFC charging sites\n",
    "* the extracted OSM amenities locations\n",
    "* attributed candidate sites (i.e. the exits)\n",
    "* NC road network"
   ]
  },
  {
   "cell_type": "markdown",
   "metadata": {},
   "source": [
    "#### upload NREL DCFC charging sites"
   ]
  },
  {
   "cell_type": "code",
   "execution_count": 19,
   "metadata": {},
   "outputs": [],
   "source": [
    "#Fetch the NREL CSV into a pandas dataframe, then convert to a spatial dataframe\n",
    "DCFC_df = pd.read_csv('../Data/NREL/DCFC.csv')\n",
    "DCFC_sdf = GeoAccessor.from_xy(df = DCFC_df, x_column='longitude', y_column='latitude',sr=4326)"
   ]
  },
  {
   "cell_type": "code",
   "execution_count": 20,
   "metadata": {},
   "outputs": [
    {
     "data": {
      "text/html": [
       "<div class=\"item_container\" style=\"height: auto; overflow: hidden; border: 1px solid #cfcfcf; border-radius: 2px; background: #f6fafa; line-height: 1.21429em; padding: 10px;\">\n",
       "                    <div class=\"item_left\" style=\"width: 210px; float: left;\">\n",
       "                       <a href='https://NSOE.maps.arcgis.com/home/item.html?id=bb59d50a32834fef810f5bca2a187380' target='_blank'>\n",
       "                        <img src='http://static.arcgis.com/images/desktopapp.png' class=\"itemThumbnail\">\n",
       "                       </a>\n",
       "                    </div>\n",
       "\n",
       "                    <div class=\"item_right\"     style=\"float: none; width: auto; overflow: hidden;\">\n",
       "                        <a href='https://NSOE.maps.arcgis.com/home/item.html?id=bb59d50a32834fef810f5bca2a187380' target='_blank'><b>NREL DC Fast Charger sites</b>\n",
       "                        </a>\n",
       "                        <br/><img src='https://NSOE.maps.arcgis.com/home/js/jsapi/esri/css/images/item_type_icons/featureshosted16.png' style=\"vertical-align:middle;\">Feature Layer Collection by yw377_790\n",
       "                        <br/>Last Modified: April 28, 2020\n",
       "                        <br/>0 comments, 0 views\n",
       "                    </div>\n",
       "                </div>\n",
       "                "
      ],
      "text/plain": [
       "<Item title:\"NREL DC Fast Charger sites\" type:Feature Layer Collection owner:yw377_790>"
      ]
     },
     "execution_count": 20,
     "metadata": {},
     "output_type": "execute_result"
    }
   ],
   "source": [
    "#Convert the sdf to a FeatureLayer, which publishes it to AGOL\n",
    "DCFC_flyr = DCFC_sdf.spatial.to_featurelayer(title='NREL DC Fast Charger sites',\n",
    "                                             tags='EV Charger,ENV790')\n",
    "DCFC_flyr"
   ]
  },
  {
   "cell_type": "markdown",
   "metadata": {},
   "source": [
    "#### Update properties for the layer\n",
    "\n",
    "1. creating a dictionary of properties and their values \n",
    "2. updating our feature layer with these properties. \n",
    "[*https://developers.arcgis.com/python/api-reference/arcgis.gis.toc.html#arcgis.gis.Item.update*]"
   ]
  },
  {
   "cell_type": "code",
   "execution_count": 21,
   "metadata": {},
   "outputs": [
    {
     "data": {
      "text/plain": [
       "True"
      ]
     },
     "execution_count": 21,
     "metadata": {},
     "output_type": "execute_result"
    }
   ],
   "source": [
    "#Construct the dictionary of feature layer properties\n",
    "featLayer_properties = {\n",
    "    'snippet':\"NREL DC Fast Charging site. Extracted and subset via the NREL API\",\n",
    "    'summary':\"These data were extracted from the NREL API, subset using the following criteria...\"\n",
    "}\n",
    "#Apply the changes\n",
    "DCFC_flyr.update(featLayer_properties)"
   ]
  },
  {
   "cell_type": "code",
   "execution_count": 23,
   "metadata": {},
   "outputs": [
    {
     "data": {
      "text/plain": [
       "{'results': [{'itemId': 'bb59d50a32834fef810f5bca2a187380',\n",
       "   'success': True,\n",
       "   'notSharedWith': []}]}"
      ]
     },
     "execution_count": 23,
     "metadata": {},
     "output_type": "execute_result"
    }
   ],
   "source": [
    "#Share with everyone in the organization\n",
    "DCFC_flyr.share(org=True)"
   ]
  },
  {
   "cell_type": "markdown",
   "metadata": {},
   "source": [
    "#### Upload OSM amenities datasets"
   ]
  },
  {
   "cell_type": "code",
   "execution_count": 61,
   "metadata": {},
   "outputs": [
    {
     "data": {
      "text/html": [
       "<div class=\"item_container\" style=\"height: auto; overflow: hidden; border: 1px solid #cfcfcf; border-radius: 2px; background: #f6fafa; line-height: 1.21429em; padding: 10px;\">\n",
       "                    <div class=\"item_left\" style=\"width: 210px; float: left;\">\n",
       "                       <a href='https://NSOE.maps.arcgis.com/home/item.html?id=39210074c1134bb780d01a0774665f2e' target='_blank'>\n",
       "                        <img src='http://static.arcgis.com/images/desktopapp.png' class=\"itemThumbnail\">\n",
       "                       </a>\n",
       "                    </div>\n",
       "\n",
       "                    <div class=\"item_right\"     style=\"float: none; width: auto; overflow: hidden;\">\n",
       "                        <a href='https://NSOE.maps.arcgis.com/home/item.html?id=39210074c1134bb780d01a0774665f2e' target='_blank'><b>Restaurants and cafes locaitons in NC sites</b>\n",
       "                        </a>\n",
       "                        <br/><img src='https://NSOE.maps.arcgis.com/home/js/jsapi/esri/css/images/item_type_icons/featureshosted16.png' style=\"vertical-align:middle;\">Feature Layer Collection by yw377_790\n",
       "                        <br/>Last Modified: April 29, 2020\n",
       "                        <br/>0 comments, 0 views\n",
       "                    </div>\n",
       "                </div>\n",
       "                "
      ],
      "text/plain": [
       "<Item title:\"Restaurants and cafes locaitons in NC sites\" type:Feature Layer Collection owner:yw377_790>"
      ]
     },
     "execution_count": 61,
     "metadata": {},
     "output_type": "execute_result"
    }
   ],
   "source": [
    "sdf_amenities = GeoAccessor.from_featureclass('../Data/OSM/OSM_amenities.shp')\n",
    "amenities_flyr = sdf_amenities.spatial.to_featurelayer(title='Restaurants and cafes locaitons in NC sites',\n",
    "                                             tags='Amenities,ENV790')\n",
    "amenities_flyr\n",
    "amenities_flyr.share(org=True)"
   ]
  },
  {
   "cell_type": "markdown",
   "metadata": {},
   "source": [
    "#### Upload attributed candidate charger locations"
   ]
  },
  {
   "cell_type": "code",
   "execution_count": 63,
   "metadata": {},
   "outputs": [
    {
     "data": {
      "text/plain": [
       "{'results': [{'itemId': '33aaba833eb643f2a761bed9654515f3',\n",
       "   'success': True,\n",
       "   'notSharedWith': []}]}"
      ]
     },
     "execution_count": 63,
     "metadata": {},
     "output_type": "execute_result"
    }
   ],
   "source": [
    "sdf_charger = GeoAccessor.from_featureclass('../Data/Exits_final.shp')\n",
    "charger_flyr = sdf_charger.spatial.to_featurelayer(title='Attributed candidate charger locations',\n",
    "                                             tags='EV Charger,ENV790')\n",
    "charger_flyr\n",
    "charger_flyr.share(org=True)"
   ]
  },
  {
   "cell_type": "markdown",
   "metadata": {},
   "source": [
    "#### Upload NC road network"
   ]
  },
  {
   "cell_type": "code",
   "execution_count": 11,
   "metadata": {},
   "outputs": [
    {
     "data": {
      "text/plain": [
       "{'results': [{'itemId': 'fdb83ce47e644cfebe13ee57a8766509',\n",
       "   'success': True,\n",
       "   'notSharedWith': []}]}"
      ]
     },
     "execution_count": 11,
     "metadata": {},
     "output_type": "execute_result"
    }
   ],
   "source": [
    "#road network edges\n",
    "sdf_edges = GeoAccessor.from_featureclass('../Data/OSM/NC_roads/edges/edges.shp')\n",
    "edges_flyr = sdf_edges.spatial.to_featurelayer(title='NC road network - edges',\n",
    "                                             tags='EV Charger,ENV790')\n",
    "edges_flyr\n",
    "edges_flyr.share(org=True)\n",
    "\n",
    "#road network nodes\n",
    "sdf_nodes = GeoAccessor.from_featureclass('../Data/OSM/NC_roads/nodes/nodes.shp')\n",
    "nodes_flyr = sdf_nodes.spatial.to_featurelayer(title='NC road network - nodes',\n",
    "                                             tags='EV Charger,ENV790')\n",
    "nodes_flyr\n",
    "nodes_flyr.share(org=True)"
   ]
  },
  {
   "cell_type": "code",
   "execution_count": null,
   "metadata": {},
   "outputs": [],
   "source": []
  }
 ],
 "metadata": {
  "kernelspec": {
   "display_name": "Python 3",
   "language": "python",
   "name": "python3"
  },
  "language_info": {
   "codemirror_mode": {
    "name": "ipython",
    "version": 3
   },
   "file_extension": ".py",
   "mimetype": "text/x-python",
   "name": "python",
   "nbconvert_exporter": "python",
   "pygments_lexer": "ipython3",
   "version": "3.7.3"
  }
 },
 "nbformat": 4,
 "nbformat_minor": 4
}
