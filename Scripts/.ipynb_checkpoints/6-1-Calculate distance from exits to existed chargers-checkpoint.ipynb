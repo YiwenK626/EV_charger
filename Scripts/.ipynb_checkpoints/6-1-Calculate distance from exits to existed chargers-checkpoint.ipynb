{
 "cells": [
  {
   "cell_type": "markdown",
   "metadata": {},
   "source": [
    "## Optimization Step 2-1\n",
    "This script identifies exits with convenient access to exited fast chargers. \n",
    "\n",
    "1. Filter exit locations with safe flood class \n",
    "\n",
    "2. Import geometry information of DCFC locations\n",
    "\n",
    "3. Calculate the distance of each exit to its nearest charger\n",
    "\n",
    "4. Save the updated exit dataset with distance information as a shp file \n",
    "\n",
    "<i>Yiwen Wang | 04/27/2020</i>"
   ]
  },
  {
   "cell_type": "code",
   "execution_count": 2,
   "metadata": {},
   "outputs": [
    {
     "name": "stderr",
     "output_type": "stream",
     "text": [
      "/opt/conda/lib/python3.7/site-packages/arcgis/features/_data/geodataset/utils.py:16: FutureWarning: The pandas.datetime class is deprecated and will be removed from pandas in a future version. Import from datetime module instead.\n",
      "  pd.datetime,\n"
     ]
    }
   ],
   "source": [
    "import geopandas as gpd\n",
    "from arcgis import GeoAccessor\n",
    "from shapely.geometry import Point\n",
    "import pandas as pd\n",
    "from shapely.ops import nearest_points"
   ]
  },
  {
   "cell_type": "code",
   "execution_count": 3,
   "metadata": {},
   "outputs": [
    {
     "data": {
      "text/html": [
       "<div>\n",
       "<style scoped>\n",
       "    .dataframe tbody tr th:only-of-type {\n",
       "        vertical-align: middle;\n",
       "    }\n",
       "\n",
       "    .dataframe tbody tr th {\n",
       "        vertical-align: top;\n",
       "    }\n",
       "\n",
       "    .dataframe thead th {\n",
       "        text-align: right;\n",
       "    }\n",
       "</style>\n",
       "<table border=\"1\" class=\"dataframe\">\n",
       "  <thead>\n",
       "    <tr style=\"text-align: right;\">\n",
       "      <th></th>\n",
       "      <th>index</th>\n",
       "      <th>FID</th>\n",
       "      <th>Exit_ID</th>\n",
       "      <th>Longitude</th>\n",
       "      <th>Latitude</th>\n",
       "      <th>County</th>\n",
       "      <th>State</th>\n",
       "      <th>Highway</th>\n",
       "      <th>Type</th>\n",
       "      <th>AADT</th>\n",
       "      <th>Pop_dens</th>\n",
       "      <th>Comm_1mi</th>\n",
       "      <th>Ports_5mi</th>\n",
       "      <th>Ports_10mi</th>\n",
       "      <th>Ports_20mi</th>\n",
       "      <th>Close_nonT</th>\n",
       "      <th>Flood_Zone</th>\n",
       "      <th>geometry</th>\n",
       "    </tr>\n",
       "  </thead>\n",
       "  <tbody>\n",
       "    <tr>\n",
       "      <th>0</th>\n",
       "      <td>0</td>\n",
       "      <td>7059</td>\n",
       "      <td>US-64_Cherokee_NC_Exit_1</td>\n",
       "      <td>-84.314304</td>\n",
       "      <td>35.019492</td>\n",
       "      <td>Cherokee</td>\n",
       "      <td>NC</td>\n",
       "      <td>U.S. Highway 64</td>\n",
       "      <td>Exit/Intersection</td>\n",
       "      <td>3700</td>\n",
       "      <td>60.34979</td>\n",
       "      <td>1</td>\n",
       "      <td>0</td>\n",
       "      <td>0</td>\n",
       "      <td>0</td>\n",
       "      <td>34.094152</td>\n",
       "      <td>Area of Minimal Flood Hazard</td>\n",
       "      <td>POINT (-84.31430 35.01949)</td>\n",
       "    </tr>\n",
       "    <tr>\n",
       "      <th>1</th>\n",
       "      <td>1</td>\n",
       "      <td>7060</td>\n",
       "      <td>US-64_Cherokee_NC_Exit_2</td>\n",
       "      <td>-84.311492</td>\n",
       "      <td>35.014933</td>\n",
       "      <td>Cherokee</td>\n",
       "      <td>NC</td>\n",
       "      <td>U.S. Highway 64</td>\n",
       "      <td>Exit/Intersection</td>\n",
       "      <td>3700</td>\n",
       "      <td>60.34979</td>\n",
       "      <td>1</td>\n",
       "      <td>0</td>\n",
       "      <td>0</td>\n",
       "      <td>0</td>\n",
       "      <td>34.365230</td>\n",
       "      <td>Area of Minimal Flood Hazard</td>\n",
       "      <td>POINT (-84.31149 35.01493)</td>\n",
       "    </tr>\n",
       "    <tr>\n",
       "      <th>2</th>\n",
       "      <td>2</td>\n",
       "      <td>7061</td>\n",
       "      <td>US-64_Cherokee_NC_Exit_3</td>\n",
       "      <td>-84.295528</td>\n",
       "      <td>35.013561</td>\n",
       "      <td>Cherokee</td>\n",
       "      <td>NC</td>\n",
       "      <td>U.S. Highway 64</td>\n",
       "      <td>Exit/Intersection</td>\n",
       "      <td>3900</td>\n",
       "      <td>60.34979</td>\n",
       "      <td>0</td>\n",
       "      <td>0</td>\n",
       "      <td>0</td>\n",
       "      <td>0</td>\n",
       "      <td>35.233979</td>\n",
       "      <td>Area of Minimal Flood Hazard</td>\n",
       "      <td>POINT (-84.29553 35.01356)</td>\n",
       "    </tr>\n",
       "    <tr>\n",
       "      <th>3</th>\n",
       "      <td>3</td>\n",
       "      <td>7062</td>\n",
       "      <td>US-64_Cherokee_NC_Exit_4</td>\n",
       "      <td>-84.280291</td>\n",
       "      <td>35.012880</td>\n",
       "      <td>Cherokee</td>\n",
       "      <td>NC</td>\n",
       "      <td>U.S. Highway 64</td>\n",
       "      <td>Exit/Intersection</td>\n",
       "      <td>3900</td>\n",
       "      <td>60.34979</td>\n",
       "      <td>0</td>\n",
       "      <td>0</td>\n",
       "      <td>0</td>\n",
       "      <td>0</td>\n",
       "      <td>36.048303</td>\n",
       "      <td>Area of Minimal Flood Hazard</td>\n",
       "      <td>POINT (-84.28029 35.01288)</td>\n",
       "    </tr>\n",
       "    <tr>\n",
       "      <th>4</th>\n",
       "      <td>4</td>\n",
       "      <td>7063</td>\n",
       "      <td>US-64_Cherokee_NC_Exit_5</td>\n",
       "      <td>-84.275190</td>\n",
       "      <td>35.017816</td>\n",
       "      <td>Cherokee</td>\n",
       "      <td>NC</td>\n",
       "      <td>U.S. Highway 64</td>\n",
       "      <td>Exit/Intersection</td>\n",
       "      <td>3900</td>\n",
       "      <td>60.34979</td>\n",
       "      <td>0</td>\n",
       "      <td>0</td>\n",
       "      <td>0</td>\n",
       "      <td>0</td>\n",
       "      <td>36.186597</td>\n",
       "      <td>Area of Minimal Flood Hazard</td>\n",
       "      <td>POINT (-84.27519 35.01782)</td>\n",
       "    </tr>\n",
       "  </tbody>\n",
       "</table>\n",
       "</div>"
      ],
      "text/plain": [
       "   index   FID                   Exit_ID  Longitude   Latitude    County  \\\n",
       "0      0  7059  US-64_Cherokee_NC_Exit_1 -84.314304  35.019492  Cherokee   \n",
       "1      1  7060  US-64_Cherokee_NC_Exit_2 -84.311492  35.014933  Cherokee   \n",
       "2      2  7061  US-64_Cherokee_NC_Exit_3 -84.295528  35.013561  Cherokee   \n",
       "3      3  7062  US-64_Cherokee_NC_Exit_4 -84.280291  35.012880  Cherokee   \n",
       "4      4  7063  US-64_Cherokee_NC_Exit_5 -84.275190  35.017816  Cherokee   \n",
       "\n",
       "  State          Highway               Type  AADT  Pop_dens  Comm_1mi  \\\n",
       "0    NC  U.S. Highway 64  Exit/Intersection  3700  60.34979         1   \n",
       "1    NC  U.S. Highway 64  Exit/Intersection  3700  60.34979         1   \n",
       "2    NC  U.S. Highway 64  Exit/Intersection  3900  60.34979         0   \n",
       "3    NC  U.S. Highway 64  Exit/Intersection  3900  60.34979         0   \n",
       "4    NC  U.S. Highway 64  Exit/Intersection  3900  60.34979         0   \n",
       "\n",
       "   Ports_5mi  Ports_10mi  Ports_20mi  Close_nonT  \\\n",
       "0          0           0           0   34.094152   \n",
       "1          0           0           0   34.365230   \n",
       "2          0           0           0   35.233979   \n",
       "3          0           0           0   36.048303   \n",
       "4          0           0           0   36.186597   \n",
       "\n",
       "                     Flood_Zone                    geometry  \n",
       "0  Area of Minimal Flood Hazard  POINT (-84.31430 35.01949)  \n",
       "1  Area of Minimal Flood Hazard  POINT (-84.31149 35.01493)  \n",
       "2  Area of Minimal Flood Hazard  POINT (-84.29553 35.01356)  \n",
       "3  Area of Minimal Flood Hazard  POINT (-84.28029 35.01288)  \n",
       "4  Area of Minimal Flood Hazard  POINT (-84.27519 35.01782)  "
      ]
     },
     "execution_count": 3,
     "metadata": {},
     "output_type": "execute_result"
    }
   ],
   "source": [
    "#Import updated exits shape file with flood class as geodataframe \n",
    "exits_gdf = gpd.read_file('../Data/MJBA/exits_flood.shp')\n",
    "exits_gdf.head()"
   ]
  },
  {
   "cell_type": "code",
   "execution_count": 11,
   "metadata": {},
   "outputs": [
    {
     "data": {
      "text/plain": [
       "<matplotlib.axes._subplots.AxesSubplot at 0x7fee4ededa20>"
      ]
     },
     "execution_count": 11,
     "metadata": {},
     "output_type": "execute_result"
    },
    {
     "data": {
      "image/png": "[encoded data removed]",
      "text/plain": [
       "<Figure size 432x288 with 1 Axes>"
      ]
     },
     "metadata": {
      "needs_background": "light"
     },
     "output_type": "display_data"
    }
   ],
   "source": [
    "#Filter and plot the exits w/o flood risk \n",
    "safeexits_gdf = exits_gdf[exits_gdf[\"Flood_Zone\"] =='Area of Minimal Flood Hazard']\n",
    "safeexits_gdf.plot()"
   ]
  },
  {
   "cell_type": "code",
   "execution_count": 8,
   "metadata": {},
   "outputs": [
    {
     "data": {
      "text/plain": [
       "Index(['access_code', 'access_days_time', 'access_detail_code',\n",
       "       'cards_accepted', 'date_last_confirmed', 'expected_date',\n",
       "       'fuel_type_code', 'groups_with_access_code', 'id', 'open_date',\n",
       "       'owner_type_code', 'status_code', 'station_name', 'station_phone',\n",
       "       'updated_at', 'facility_type', 'geocode_status', 'latitude',\n",
       "       'longitude', 'city', 'intersection_directions', 'plus4', 'state',\n",
       "       'street_address', 'zip', 'country', 'ev_connector_types',\n",
       "       'ev_dc_fast_num', 'ev_level1_evse_num', 'ev_level2_evse_num',\n",
       "       'ev_network', 'ev_network_web', 'ev_other_evse', 'ev_pricing',\n",
       "       'ev_renewable_source', 'ev_network_ids'],\n",
       "      dtype='object')"
      ]
     },
     "execution_count": 8,
     "metadata": {},
     "output_type": "execute_result"
    }
   ],
   "source": [
    "#Import datasets of exited chargers\n",
    "chargers = pd.read_csv(\"../Data/NREL/DCFC.csv\")\n",
    "chargers.columns"
   ]
  },
  {
   "cell_type": "code",
   "execution_count": 12,
   "metadata": {},
   "outputs": [
    {
     "data": {
      "text/plain": [
       "[<shapely.geometry.point.Point at 0x7fee4ec817f0>,\n",
       " <shapely.geometry.point.Point at 0x7fee4ec81b70>,\n",
       " <shapely.geometry.point.Point at 0x7fee4ec81eb8>,\n",
       " <shapely.geometry.point.Point at 0x7fee4ec81cc0>,\n",
       " <shapely.geometry.point.Point at 0x7fee4ec81978>]"
      ]
     },
     "execution_count": 12,
     "metadata": {},
     "output_type": "execute_result"
    }
   ],
   "source": [
    "#Convert coordinates into geometry points  \n",
    "#zip() zips the corresponding elements in lists into a list with tuples\n",
    "geom = [Point(xy) for xy in zip(chargers['longitude'],chargers['latitude'])] \n",
    "geom[:5]"
   ]
  },
  {
   "cell_type": "code",
   "execution_count": 13,
   "metadata": {},
   "outputs": [
    {
     "data": {
      "text/plain": [
       "<matplotlib.axes._subplots.AxesSubplot at 0x7fee4ed48080>"
      ]
     },
     "execution_count": 13,
     "metadata": {},
     "output_type": "execute_result"
    },
    {
     "data": {
      "image/png": "[encoded data removed]",
      "text/plain": [
       "<Figure size 432x288 with 1 Axes>"
      ]
     },
     "metadata": {
      "needs_background": "light"
     },
     "output_type": "display_data"
    }
   ],
   "source": [
    "#Convert csv pandas dataframe into geopandas dataframe and specify coordinate systems \n",
    "chargers_gdf = gpd.GeoDataFrame(chargers, geometry=geom,crs = 4326)\n",
    "chargers_gdf.plot()"
   ]
  },
  {
   "cell_type": "code",
   "execution_count": 17,
   "metadata": {},
   "outputs": [],
   "source": [
    "#Transform the coordinate systems into 32617 with to_crs()\n",
    "# crs = 4326 World Geodetic System \n",
    "# crs = 32617 UTM 17N\n",
    "\n",
    "safeexits_gdf = exits_gdf.to_crs(32617)\n",
    "chargers_gdf = chargers_gdf.to_crs(32617)"
   ]
  },
  {
   "cell_type": "code",
   "execution_count": 18,
   "metadata": {},
   "outputs": [
    {
     "data": {
      "image/svg+xml": [
       "<svg xmlns=\"http://www.w3.org/2000/svg\" xmlns:xlink=\"http://www.w3.org/1999/xlink\" width=\"300\" height=\"300\" viewBox=\"328727.695774935 3767602.2785669104 696766.2561103781 293109.2411511503\" preserveAspectRatio=\"xMinYMin meet\"><g transform=\"matrix(1,0,0,-1,0,7828313.798284971)\"><g><circle cx=\"354533.8534086527\" cy=\"3933162.8645529244\" r=\"6967.662561103782\" stroke=\"#555555\" stroke-width=\"2322.5541870345937\" fill=\"#66cc99\" opacity=\"0.6\" /><circle cx=\"354769.6046992752\" cy=\"3932953.218764007\" r=\"6967.662561103782\" stroke=\"#555555\" stroke-width=\"2322.5541870345937\" fill=\"#66cc99\" opacity=\"0.6\" /><circle cx=\"356716.6255019605\" cy=\"3939758.236033625\" r=\"6967.662561103782\" stroke=\"#555555\" stroke-width=\"2322.5541870345937\" fill=\"#66cc99\" opacity=\"0.6\" /><circle cx=\"358690.0638234425\" cy=\"3927838.6333054276\" r=\"6967.662561103782\" stroke=\"#555555\" stroke-width=\"2322.5541870345937\" fill=\"#66cc99\" opacity=\"0.6\" /><circle cx=\"362382.97652949573\" cy=\"3925797.5670697982\" r=\"6967.662561103782\" stroke=\"#555555\" stroke-width=\"2322.5541870345937\" fill=\"#66cc99\" opacity=\"0.6\" /><circle cx=\"452066.9965165688\" cy=\"3976852.134787791\" r=\"6967.662561103782\" stroke=\"#555555\" stroke-width=\"2322.5541870345937\" fill=\"#66cc99\" opacity=\"0.6\" /><circle cx=\"470947.02012420294\" cy=\"3951846.6066319942\" r=\"6967.662561103782\" stroke=\"#555555\" stroke-width=\"2322.5541870345937\" fill=\"#66cc99\" opacity=\"0.6\" /><circle cx=\"473365.902962765\" cy=\"3951440.297624966\" r=\"6967.662561103782\" stroke=\"#555555\" stroke-width=\"2322.5541870345937\" fill=\"#66cc99\" opacity=\"0.6\" /><circle cx=\"487122.77304890426\" cy=\"3903164.5725499974\" r=\"6967.662561103782\" stroke=\"#555555\" stroke-width=\"2322.5541870345937\" fill=\"#66cc99\" opacity=\"0.6\" /><circle cx=\"487292.0396783788\" cy=\"3902008.6289832876\" r=\"6967.662561103782\" stroke=\"#555555\" stroke-width=\"2322.5541870345937\" fill=\"#66cc99\" opacity=\"0.6\" /><circle cx=\"501102.3527539728\" cy=\"3884063.531556759\" r=\"6967.662561103782\" stroke=\"#555555\" stroke-width=\"2322.5541870345937\" fill=\"#66cc99\" opacity=\"0.6\" /><circle cx=\"501190.811062056\" cy=\"3906497.922364546\" r=\"6967.662561103782\" stroke=\"#555555\" stroke-width=\"2322.5541870345937\" fill=\"#66cc99\" opacity=\"0.6\" /><circle cx=\"502864.1808140378\" cy=\"3891059.9553251676\" r=\"6967.662561103782\" stroke=\"#555555\" stroke-width=\"2322.5541870345937\" fill=\"#66cc99\" opacity=\"0.6\" /><circle cx=\"503411.4008544798\" cy=\"3910394.479209804\" r=\"6967.662561103782\" stroke=\"#555555\" stroke-width=\"2322.5541870345937\" fill=\"#66cc99\" opacity=\"0.6\" /><circle cx=\"511594.84948465344\" cy=\"3924854.0678293416\" r=\"6967.662561103782\" stroke=\"#555555\" stroke-width=\"2322.5541870345937\" fill=\"#66cc99\" opacity=\"0.6\" /><circle cx=\"514038.8736575465\" cy=\"3879099.985276783\" r=\"6967.662561103782\" stroke=\"#555555\" stroke-width=\"2322.5541870345937\" fill=\"#66cc99\" opacity=\"0.6\" /><circle cx=\"514403.5122162187\" cy=\"3880734.744623439\" r=\"6967.662561103782\" stroke=\"#555555\" stroke-width=\"2322.5541870345937\" fill=\"#66cc99\" opacity=\"0.6\" /><circle cx=\"515202.22643256356\" cy=\"3890136.263689638\" r=\"6967.662561103782\" stroke=\"#555555\" stroke-width=\"2322.5541870345937\" fill=\"#66cc99\" opacity=\"0.6\" /><circle cx=\"517053.7957441775\" cy=\"3897440.1198682147\" r=\"6967.662561103782\" stroke=\"#555555\" stroke-width=\"2322.5541870345937\" fill=\"#66cc99\" opacity=\"0.6\" /><circle cx=\"518051.6855578334\" cy=\"3932450.393684176\" r=\"6967.662561103782\" stroke=\"#555555\" stroke-width=\"2322.5541870345937\" fill=\"#66cc99\" opacity=\"0.6\" /><circle cx=\"519590.6323923382\" cy=\"3914385.604992999\" r=\"6967.662561103782\" stroke=\"#555555\" stroke-width=\"2322.5541870345937\" fill=\"#66cc99\" opacity=\"0.6\" /><circle cx=\"521283.0929631865\" cy=\"3910857.1703110905\" r=\"6967.662561103782\" stroke=\"#555555\" stroke-width=\"2322.5541870345937\" fill=\"#66cc99\" opacity=\"0.6\" /><circle cx=\"522134.8813042285\" cy=\"3905846.7400629595\" r=\"6967.662561103782\" stroke=\"#555555\" stroke-width=\"2322.5541870345937\" fill=\"#66cc99\" opacity=\"0.6\" /><circle cx=\"523394.0314916698\" cy=\"3891627.4595189546\" r=\"6967.662561103782\" stroke=\"#555555\" stroke-width=\"2322.5541870345937\" fill=\"#66cc99\" opacity=\"0.6\" /><circle cx=\"524456.6997682103\" cy=\"3882394.870032051\" r=\"6967.662561103782\" stroke=\"#555555\" stroke-width=\"2322.5541870345937\" fill=\"#66cc99\" opacity=\"0.6\" /><circle cx=\"526293.3717487635\" cy=\"3913496.953104156\" r=\"6967.662561103782\" stroke=\"#555555\" stroke-width=\"2322.5541870345937\" fill=\"#66cc99\" opacity=\"0.6\" /><circle cx=\"530846.7997076071\" cy=\"3892071.085289368\" r=\"6967.662561103782\" stroke=\"#555555\" stroke-width=\"2322.5541870345937\" fill=\"#66cc99\" opacity=\"0.6\" /><circle cx=\"531267.0794740422\" cy=\"3900910.200943925\" r=\"6967.662561103782\" stroke=\"#555555\" stroke-width=\"2322.5541870345937\" fill=\"#66cc99\" opacity=\"0.6\" /><circle cx=\"532555.2066609779\" cy=\"4034905.362084343\" r=\"6967.662561103782\" stroke=\"#555555\" stroke-width=\"2322.5541870345937\" fill=\"#66cc99\" opacity=\"0.6\" /><circle cx=\"534257.3114571817\" cy=\"3916588.0839904826\" r=\"6967.662561103782\" stroke=\"#555555\" stroke-width=\"2322.5541870345937\" fill=\"#66cc99\" opacity=\"0.6\" /><circle cx=\"546327.1045221352\" cy=\"3944645.4738774383\" r=\"6967.662561103782\" stroke=\"#555555\" stroke-width=\"2322.5541870345937\" fill=\"#66cc99\" opacity=\"0.6\" /><circle cx=\"565161.7279144067\" cy=\"4004127.9116427014\" r=\"6967.662561103782\" stroke=\"#555555\" stroke-width=\"2322.5541870345937\" fill=\"#66cc99\" opacity=\"0.6\" /><circle cx=\"585873.3223020884\" cy=\"3868542.2135304464\" r=\"6967.662561103782\" stroke=\"#555555\" stroke-width=\"2322.5541870345937\" fill=\"#66cc99\" opacity=\"0.6\" /><circle cx=\"593725.322437647\" cy=\"3991390.75307096\" r=\"6967.662561103782\" stroke=\"#555555\" stroke-width=\"2322.5541870345937\" fill=\"#66cc99\" opacity=\"0.6\" /><circle cx=\"598318.1836018302\" cy=\"3991094.840712969\" r=\"6967.662561103782\" stroke=\"#555555\" stroke-width=\"2322.5541870345937\" fill=\"#66cc99\" opacity=\"0.6\" /><circle cx=\"598808.1667724705\" cy=\"3991001.839114357\" r=\"6967.662561103782\" stroke=\"#555555\" stroke-width=\"2322.5541870345937\" fill=\"#66cc99\" opacity=\"0.6\" /><circle cx=\"601182.3995834037\" cy=\"3991255.346158781\" r=\"6967.662561103782\" stroke=\"#555555\" stroke-width=\"2322.5541870345937\" fill=\"#66cc99\" opacity=\"0.6\" /><circle cx=\"608314.720693446\" cy=\"3984965.3231691327\" r=\"6967.662561103782\" stroke=\"#555555\" stroke-width=\"2322.5541870345937\" fill=\"#66cc99\" opacity=\"0.6\" /><circle cx=\"634064.672146508\" cy=\"3992825.586881258\" r=\"6967.662561103782\" stroke=\"#555555\" stroke-width=\"2322.5541870345937\" fill=\"#66cc99\" opacity=\"0.6\" /><circle cx=\"634754.6824119585\" cy=\"3992033.86595124\" r=\"6967.662561103782\" stroke=\"#555555\" stroke-width=\"2322.5541870345937\" fill=\"#66cc99\" opacity=\"0.6\" /><circle cx=\"664957.9263123553\" cy=\"3955505.490371196\" r=\"6967.662561103782\" stroke=\"#555555\" stroke-width=\"2322.5541870345937\" fill=\"#66cc99\" opacity=\"0.6\" /><circle cx=\"669886.8353564256\" cy=\"3923904.5791744697\" r=\"6967.662561103782\" stroke=\"#555555\" stroke-width=\"2322.5541870345937\" fill=\"#66cc99\" opacity=\"0.6\" /><circle cx=\"672923.4617397327\" cy=\"3991983.600489175\" r=\"6967.662561103782\" stroke=\"#555555\" stroke-width=\"2322.5541870345937\" fill=\"#66cc99\" opacity=\"0.6\" /><circle cx=\"673107.7774613522\" cy=\"3943839.623327493\" r=\"6967.662561103782\" stroke=\"#555555\" stroke-width=\"2322.5541870345937\" fill=\"#66cc99\" opacity=\"0.6\" /><circle cx=\"682646.5872384796\" cy=\"3837707.830357362\" r=\"6967.662561103782\" stroke=\"#555555\" stroke-width=\"2322.5541870345937\" fill=\"#66cc99\" opacity=\"0.6\" /><circle cx=\"683036.7303048391\" cy=\"3838000.8342552152\" r=\"6967.662561103782\" stroke=\"#555555\" stroke-width=\"2322.5541870345937\" fill=\"#66cc99\" opacity=\"0.6\" /><circle cx=\"683928.1836437903\" cy=\"3982089.5448778807\" r=\"6967.662561103782\" stroke=\"#555555\" stroke-width=\"2322.5541870345937\" fill=\"#66cc99\" opacity=\"0.6\" /><circle cx=\"684001.3840625251\" cy=\"3974819.8550053188\" r=\"6967.662561103782\" stroke=\"#555555\" stroke-width=\"2322.5541870345937\" fill=\"#66cc99\" opacity=\"0.6\" /><circle cx=\"684225.1965632648\" cy=\"3982608.2354431623\" r=\"6967.662561103782\" stroke=\"#555555\" stroke-width=\"2322.5541870345937\" fill=\"#66cc99\" opacity=\"0.6\" /><circle cx=\"686367.5147485324\" cy=\"3879655.715072089\" r=\"6967.662561103782\" stroke=\"#555555\" stroke-width=\"2322.5541870345937\" fill=\"#66cc99\" opacity=\"0.6\" /><circle cx=\"686898.4755255707\" cy=\"3883690.6583683575\" r=\"6967.662561103782\" stroke=\"#555555\" stroke-width=\"2322.5541870345937\" fill=\"#66cc99\" opacity=\"0.6\" /><circle cx=\"688330.7137132576\" cy=\"3812514.370558952\" r=\"6967.662561103782\" stroke=\"#555555\" stroke-width=\"2322.5541870345937\" fill=\"#66cc99\" opacity=\"0.6\" /><circle cx=\"690105.6810020691\" cy=\"3970513.0025061904\" r=\"6967.662561103782\" stroke=\"#555555\" stroke-width=\"2322.5541870345937\" fill=\"#66cc99\" opacity=\"0.6\" /><circle cx=\"690885.8030215383\" cy=\"3968662.804342472\" r=\"6967.662561103782\" stroke=\"#555555\" stroke-width=\"2322.5541870345937\" fill=\"#66cc99\" opacity=\"0.6\" /><circle cx=\"694044.5076461327\" cy=\"3956327.3332737545\" r=\"6967.662561103782\" stroke=\"#555555\" stroke-width=\"2322.5541870345937\" fill=\"#66cc99\" opacity=\"0.6\" /><circle cx=\"697698.3666559363\" cy=\"3957204.2342571914\" r=\"6967.662561103782\" stroke=\"#555555\" stroke-width=\"2322.5541870345937\" fill=\"#66cc99\" opacity=\"0.6\" /><circle cx=\"698697.6526486473\" cy=\"3876258.7437392003\" r=\"6967.662561103782\" stroke=\"#555555\" stroke-width=\"2322.5541870345937\" fill=\"#66cc99\" opacity=\"0.6\" /><circle cx=\"699045.2734060804\" cy=\"3970165.8555108462\" r=\"6967.662561103782\" stroke=\"#555555\" stroke-width=\"2322.5541870345937\" fill=\"#66cc99\" opacity=\"0.6\" /><circle cx=\"702104.3520941907\" cy=\"3974813.772391204\" r=\"6967.662561103782\" stroke=\"#555555\" stroke-width=\"2322.5541870345937\" fill=\"#66cc99\" opacity=\"0.6\" /><circle cx=\"704332.5667521372\" cy=\"3962986.637794376\" r=\"6967.662561103782\" stroke=\"#555555\" stroke-width=\"2322.5541870345937\" fill=\"#66cc99\" opacity=\"0.6\" /><circle cx=\"704422.4016991144\" cy=\"3959521.716742647\" r=\"6967.662561103782\" stroke=\"#555555\" stroke-width=\"2322.5541870345937\" fill=\"#66cc99\" opacity=\"0.6\" /><circle cx=\"707360.1854628907\" cy=\"3970557.60058475\" r=\"6967.662561103782\" stroke=\"#555555\" stroke-width=\"2322.5541870345937\" fill=\"#66cc99\" opacity=\"0.6\" /><circle cx=\"709907.194277752\" cy=\"3961444.421691806\" r=\"6967.662561103782\" stroke=\"#555555\" stroke-width=\"2322.5541870345937\" fill=\"#66cc99\" opacity=\"0.6\" /><circle cx=\"710101.709995052\" cy=\"3968157.7035677503\" r=\"6967.662561103782\" stroke=\"#555555\" stroke-width=\"2322.5541870345937\" fill=\"#66cc99\" opacity=\"0.6\" /><circle cx=\"712480.8710948313\" cy=\"3960429.0711798244\" r=\"6967.662561103782\" stroke=\"#555555\" stroke-width=\"2322.5541870345937\" fill=\"#66cc99\" opacity=\"0.6\" /><circle cx=\"712889.953834351\" cy=\"3968272.074770365\" r=\"6967.662561103782\" stroke=\"#555555\" stroke-width=\"2322.5541870345937\" fill=\"#66cc99\" opacity=\"0.6\" /><circle cx=\"719404.5851981208\" cy=\"3974095.4199791336\" r=\"6967.662561103782\" stroke=\"#555555\" stroke-width=\"2322.5541870345937\" fill=\"#66cc99\" opacity=\"0.6\" /><circle cx=\"720279.9220290934\" cy=\"3964530.1978354896\" r=\"6967.662561103782\" stroke=\"#555555\" stroke-width=\"2322.5541870345937\" fill=\"#66cc99\" opacity=\"0.6\" /><circle cx=\"721952.8487093052\" cy=\"3981087.796568942\" r=\"6967.662561103782\" stroke=\"#555555\" stroke-width=\"2322.5541870345937\" fill=\"#66cc99\" opacity=\"0.6\" /><circle cx=\"722010.4497413819\" cy=\"3981241.231492136\" r=\"6967.662561103782\" stroke=\"#555555\" stroke-width=\"2322.5541870345937\" fill=\"#66cc99\" opacity=\"0.6\" /><circle cx=\"722413.8441779324\" cy=\"3981384.5306356186\" r=\"6967.662561103782\" stroke=\"#555555\" stroke-width=\"2322.5541870345937\" fill=\"#66cc99\" opacity=\"0.6\" /><circle cx=\"729087.9100921152\" cy=\"4023474.3353241533\" r=\"6967.662561103782\" stroke=\"#555555\" stroke-width=\"2322.5541870345937\" fill=\"#66cc99\" opacity=\"0.6\" /><circle cx=\"729576.8782468388\" cy=\"4024107.1512057455\" r=\"6967.662561103782\" stroke=\"#555555\" stroke-width=\"2322.5541870345937\" fill=\"#66cc99\" opacity=\"0.6\" /><circle cx=\"742578.005089358\" cy=\"3932334.4769388186\" r=\"6967.662561103782\" stroke=\"#555555\" stroke-width=\"2322.5541870345937\" fill=\"#66cc99\" opacity=\"0.6\" /><circle cx=\"743511.0011509588\" cy=\"3932708.687313757\" r=\"6967.662561103782\" stroke=\"#555555\" stroke-width=\"2322.5541870345937\" fill=\"#66cc99\" opacity=\"0.6\" /><circle cx=\"773486.9070849731\" cy=\"3961106.669017892\" r=\"6967.662561103782\" stroke=\"#555555\" stroke-width=\"2322.5541870345937\" fill=\"#66cc99\" opacity=\"0.6\" /><circle cx=\"778950.4045675276\" cy=\"3918250.6179827703\" r=\"6967.662561103782\" stroke=\"#555555\" stroke-width=\"2322.5541870345937\" fill=\"#66cc99\" opacity=\"0.6\" /><circle cx=\"779368.9254644031\" cy=\"3850280.925600976\" r=\"6967.662561103782\" stroke=\"#555555\" stroke-width=\"2322.5541870345937\" fill=\"#66cc99\" opacity=\"0.6\" /><circle cx=\"779398.8797579198\" cy=\"3850259.7372416165\" r=\"6967.662561103782\" stroke=\"#555555\" stroke-width=\"2322.5541870345937\" fill=\"#66cc99\" opacity=\"0.6\" /><circle cx=\"779928.7139519905\" cy=\"3985308.695885476\" r=\"6967.662561103782\" stroke=\"#555555\" stroke-width=\"2322.5541870345937\" fill=\"#66cc99\" opacity=\"0.6\" /><circle cx=\"784328.3939320659\" cy=\"3985541.4916372593\" r=\"6967.662561103782\" stroke=\"#555555\" stroke-width=\"2322.5541870345937\" fill=\"#66cc99\" opacity=\"0.6\" /><circle cx=\"792043.7019506549\" cy=\"3793408.436200628\" r=\"6967.662561103782\" stroke=\"#555555\" stroke-width=\"2322.5541870345937\" fill=\"#66cc99\" opacity=\"0.6\" /><circle cx=\"825518.5360618148\" cy=\"3942416.488570741\" r=\"6967.662561103782\" stroke=\"#555555\" stroke-width=\"2322.5541870345937\" fill=\"#66cc99\" opacity=\"0.6\" /><circle cx=\"883322.2324577639\" cy=\"3975699.8506006035\" r=\"6967.662561103782\" stroke=\"#555555\" stroke-width=\"2322.5541870345937\" fill=\"#66cc99\" opacity=\"0.6\" /><circle cx=\"982306.6935393771\" cy=\"3996444.3564956794\" r=\"6967.662561103782\" stroke=\"#555555\" stroke-width=\"2322.5541870345937\" fill=\"#66cc99\" opacity=\"0.6\" /><circle cx=\"999687.7942515954\" cy=\"3925415.1295078876\" r=\"6967.662561103782\" stroke=\"#555555\" stroke-width=\"2322.5541870345937\" fill=\"#66cc99\" opacity=\"0.6\" /></g></g></svg>"
      ],
      "text/plain": [
       "<shapely.geometry.multipoint.MultiPoint at 0x7fee4ee3dbe0>"
      ]
     },
     "execution_count": 18,
     "metadata": {},
     "output_type": "execute_result"
    }
   ],
   "source": [
    "#Collapse all charger points into ONE multipoint with unary_union()\n",
    "mp_chargers = chargers_gdf['geometry'].unary_union\n",
    "mp_chargers"
   ]
  },
  {
   "cell_type": "code",
   "execution_count": 23,
   "metadata": {},
   "outputs": [],
   "source": [
    "#Define a function which finds the nearest charger for each safe exit and returns the distance \n",
    "def distance_to_chargers(from_point,to_point):\n",
    "    from_pt, to_pt = nearest_points(from_point, mp_chargers) #nearest_points() returns a tuple\n",
    "    distance = from_pt.distance(to_pt)\n",
    "    return int(distance/1609.34)#convert km into mile"
   ]
  },
  {
   "cell_type": "code",
   "execution_count": 24,
   "metadata": {},
   "outputs": [
    {
     "data": {
      "text/html": [
       "<div>\n",
       "<style scoped>\n",
       "    .dataframe tbody tr th:only-of-type {\n",
       "        vertical-align: middle;\n",
       "    }\n",
       "\n",
       "    .dataframe tbody tr th {\n",
       "        vertical-align: top;\n",
       "    }\n",
       "\n",
       "    .dataframe thead th {\n",
       "        text-align: right;\n",
       "    }\n",
       "</style>\n",
       "<table border=\"1\" class=\"dataframe\">\n",
       "  <thead>\n",
       "    <tr style=\"text-align: right;\">\n",
       "      <th></th>\n",
       "      <th>index</th>\n",
       "      <th>FID</th>\n",
       "      <th>Exit_ID</th>\n",
       "      <th>Longitude</th>\n",
       "      <th>Latitude</th>\n",
       "      <th>County</th>\n",
       "      <th>State</th>\n",
       "      <th>Highway</th>\n",
       "      <th>Type</th>\n",
       "      <th>AADT</th>\n",
       "      <th>Pop_dens</th>\n",
       "      <th>Comm_1mi</th>\n",
       "      <th>Ports_5mi</th>\n",
       "      <th>Ports_10mi</th>\n",
       "      <th>Ports_20mi</th>\n",
       "      <th>Close_nonT</th>\n",
       "      <th>Flood_Zone</th>\n",
       "      <th>geometry</th>\n",
       "      <th>Dist_to_DCFC</th>\n",
       "    </tr>\n",
       "  </thead>\n",
       "  <tbody>\n",
       "    <tr>\n",
       "      <th>0</th>\n",
       "      <td>0</td>\n",
       "      <td>7059</td>\n",
       "      <td>US-64_Cherokee_NC_Exit_1</td>\n",
       "      <td>-84.314304</td>\n",
       "      <td>35.019492</td>\n",
       "      <td>Cherokee</td>\n",
       "      <td>NC</td>\n",
       "      <td>U.S. Highway 64</td>\n",
       "      <td>Exit/Intersection</td>\n",
       "      <td>3700</td>\n",
       "      <td>60.34979</td>\n",
       "      <td>1</td>\n",
       "      <td>0</td>\n",
       "      <td>0</td>\n",
       "      <td>0</td>\n",
       "      <td>34.094152</td>\n",
       "      <td>Area of Minimal Flood Hazard</td>\n",
       "      <td>POINT (197578.012 3880227.389)</td>\n",
       "      <td>102</td>\n",
       "    </tr>\n",
       "    <tr>\n",
       "      <th>1</th>\n",
       "      <td>1</td>\n",
       "      <td>7060</td>\n",
       "      <td>US-64_Cherokee_NC_Exit_2</td>\n",
       "      <td>-84.311492</td>\n",
       "      <td>35.014933</td>\n",
       "      <td>Cherokee</td>\n",
       "      <td>NC</td>\n",
       "      <td>U.S. Highway 64</td>\n",
       "      <td>Exit/Intersection</td>\n",
       "      <td>3700</td>\n",
       "      <td>60.34979</td>\n",
       "      <td>1</td>\n",
       "      <td>0</td>\n",
       "      <td>0</td>\n",
       "      <td>0</td>\n",
       "      <td>34.365230</td>\n",
       "      <td>Area of Minimal Flood Hazard</td>\n",
       "      <td>POINT (197817.907 3879713.054)</td>\n",
       "      <td>102</td>\n",
       "    </tr>\n",
       "    <tr>\n",
       "      <th>2</th>\n",
       "      <td>2</td>\n",
       "      <td>7061</td>\n",
       "      <td>US-64_Cherokee_NC_Exit_3</td>\n",
       "      <td>-84.295528</td>\n",
       "      <td>35.013561</td>\n",
       "      <td>Cherokee</td>\n",
       "      <td>NC</td>\n",
       "      <td>U.S. Highway 64</td>\n",
       "      <td>Exit/Intersection</td>\n",
       "      <td>3900</td>\n",
       "      <td>60.34979</td>\n",
       "      <td>0</td>\n",
       "      <td>0</td>\n",
       "      <td>0</td>\n",
       "      <td>0</td>\n",
       "      <td>35.233979</td>\n",
       "      <td>Area of Minimal Flood Hazard</td>\n",
       "      <td>POINT (199270.172 3879512.464)</td>\n",
       "      <td>102</td>\n",
       "    </tr>\n",
       "    <tr>\n",
       "      <th>3</th>\n",
       "      <td>3</td>\n",
       "      <td>7062</td>\n",
       "      <td>US-64_Cherokee_NC_Exit_4</td>\n",
       "      <td>-84.280291</td>\n",
       "      <td>35.012880</td>\n",
       "      <td>Cherokee</td>\n",
       "      <td>NC</td>\n",
       "      <td>U.S. Highway 64</td>\n",
       "      <td>Exit/Intersection</td>\n",
       "      <td>3900</td>\n",
       "      <td>60.34979</td>\n",
       "      <td>0</td>\n",
       "      <td>0</td>\n",
       "      <td>0</td>\n",
       "      <td>0</td>\n",
       "      <td>36.048303</td>\n",
       "      <td>Area of Minimal Flood Hazard</td>\n",
       "      <td>POINT (200658.638 3879391.092)</td>\n",
       "      <td>101</td>\n",
       "    </tr>\n",
       "    <tr>\n",
       "      <th>4</th>\n",
       "      <td>4</td>\n",
       "      <td>7063</td>\n",
       "      <td>US-64_Cherokee_NC_Exit_5</td>\n",
       "      <td>-84.275190</td>\n",
       "      <td>35.017816</td>\n",
       "      <td>Cherokee</td>\n",
       "      <td>NC</td>\n",
       "      <td>U.S. Highway 64</td>\n",
       "      <td>Exit/Intersection</td>\n",
       "      <td>3900</td>\n",
       "      <td>60.34979</td>\n",
       "      <td>0</td>\n",
       "      <td>0</td>\n",
       "      <td>0</td>\n",
       "      <td>0</td>\n",
       "      <td>36.186597</td>\n",
       "      <td>Area of Minimal Flood Hazard</td>\n",
       "      <td>POINT (201142.266 3879923.503)</td>\n",
       "      <td>100</td>\n",
       "    </tr>\n",
       "  </tbody>\n",
       "</table>\n",
       "</div>"
      ],
      "text/plain": [
       "   index   FID                   Exit_ID  Longitude   Latitude    County  \\\n",
       "0      0  7059  US-64_Cherokee_NC_Exit_1 -84.314304  35.019492  Cherokee   \n",
       "1      1  7060  US-64_Cherokee_NC_Exit_2 -84.311492  35.014933  Cherokee   \n",
       "2      2  7061  US-64_Cherokee_NC_Exit_3 -84.295528  35.013561  Cherokee   \n",
       "3      3  7062  US-64_Cherokee_NC_Exit_4 -84.280291  35.012880  Cherokee   \n",
       "4      4  7063  US-64_Cherokee_NC_Exit_5 -84.275190  35.017816  Cherokee   \n",
       "\n",
       "  State          Highway               Type  AADT  Pop_dens  Comm_1mi  \\\n",
       "0    NC  U.S. Highway 64  Exit/Intersection  3700  60.34979         1   \n",
       "1    NC  U.S. Highway 64  Exit/Intersection  3700  60.34979         1   \n",
       "2    NC  U.S. Highway 64  Exit/Intersection  3900  60.34979         0   \n",
       "3    NC  U.S. Highway 64  Exit/Intersection  3900  60.34979         0   \n",
       "4    NC  U.S. Highway 64  Exit/Intersection  3900  60.34979         0   \n",
       "\n",
       "   Ports_5mi  Ports_10mi  Ports_20mi  Close_nonT  \\\n",
       "0          0           0           0   34.094152   \n",
       "1          0           0           0   34.365230   \n",
       "2          0           0           0   35.233979   \n",
       "3          0           0           0   36.048303   \n",
       "4          0           0           0   36.186597   \n",
       "\n",
       "                     Flood_Zone                        geometry  Dist_to_DCFC  \n",
       "0  Area of Minimal Flood Hazard  POINT (197578.012 3880227.389)           102  \n",
       "1  Area of Minimal Flood Hazard  POINT (197817.907 3879713.054)           102  \n",
       "2  Area of Minimal Flood Hazard  POINT (199270.172 3879512.464)           102  \n",
       "3  Area of Minimal Flood Hazard  POINT (200658.638 3879391.092)           101  \n",
       "4  Area of Minimal Flood Hazard  POINT (201142.266 3879923.503)           100  "
      ]
     },
     "execution_count": 24,
     "metadata": {},
     "output_type": "execute_result"
    }
   ],
   "source": [
    "#Apply the funciton to each safe exit \n",
    "safeexits_gdf['Dist_to_DCFC']=safeexits_gdf['geometry'].apply(lambda x: distance_to_chargers(x, mp_chargers))\n",
    "safeexits_gdf.head()"
   ]
  },
  {
   "cell_type": "code",
   "execution_count": 92,
   "metadata": {},
   "outputs": [],
   "source": [
    "#Save the updated safe exits dataframe into shp file \n",
    "safeexits_gdf.to_file('../Data/MJBA/Exits_distance_to_DCFC.shp')"
   ]
  },
  {
   "cell_type": "code",
   "execution_count": 36,
   "metadata": {},
   "outputs": [
    {
     "data": {
      "text/plain": [
       "<matplotlib.axes._subplots.AxesSubplot at 0x7f634f241198>"
      ]
     },
     "execution_count": 36,
     "metadata": {},
     "output_type": "execute_result"
    },
    {
     "data": {
      "image/png": "[encoded data removed]",
      "text/plain": [
       "<Figure size 864x432 with 1 Axes>"
      ]
     },
     "metadata": {
      "needs_background": "light"
     },
     "output_type": "display_data"
    }
   ],
   "source": [
    "#Plot the safe exits with Dist_to_DFC as hue variation  \n",
    "fig = safeexits_gdf.plot('Dist_to_DCFC',figsize=(12,6))\n",
    "\n",
    "#Refer to exited charger locations \n",
    "chargers_gdf.plot(ax=fig,color='orange')"
   ]
  }
 ],
 "metadata": {
  "kernelspec": {
   "display_name": "Python 3",
   "language": "python",
   "name": "python3"
  },
  "language_info": {
   "codemirror_mode": {
    "name": "ipython",
    "version": 3
   },
   "file_extension": ".py",
   "mimetype": "text/x-python",
   "name": "python",
   "nbconvert_exporter": "python",
   "pygments_lexer": "ipython3",
   "version": "3.7.3"
  }
 },
 "nbformat": 4,
 "nbformat_minor": 2
}
