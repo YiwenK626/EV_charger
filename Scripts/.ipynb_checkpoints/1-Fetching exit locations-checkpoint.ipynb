{
 "cells": [
  {
   "cell_type": "markdown",
   "metadata": {},
   "source": [
    "## Data Fetching Step 1 \n",
    "This script fetches exits locations and prepares for eliminating floodplain locations. \n",
    "\n",
    "1. search for datasets on ArcGIS online \n",
    "\n",
    "2. get the feature layer\n",
    "\n",
    "3. fitler data points in NC \n",
    "\n",
    "4. convert the feature layer to spatial daraframe \n",
    "\n",
    "5. save the spatial dataframe as shp file \n",
    "\n",
    "<i>Yiwen Wang | 04/27/2020</i>"
   ]
  },
  {
   "cell_type": "code",
   "execution_count": 2,
   "metadata": {},
   "outputs": [
    {
     "name": "stderr",
     "output_type": "stream",
     "text": [
      "/opt/conda/lib/python3.7/site-packages/arcgis/features/_data/geodataset/utils.py:16: FutureWarning: The pandas.datetime class is deprecated and will be removed from pandas in a future version. Import from datetime module instead.\n",
      "  pd.datetime,\n"
     ]
    }
   ],
   "source": [
    "from arcgis import GIS\n",
    "gis = GIS()"
   ]
  },
  {
   "cell_type": "code",
   "execution_count": 3,
   "metadata": {},
   "outputs": [
    {
     "data": {
      "text/plain": [
       "[<Item title:\"TCI_NC_exits_2019_06_11_v1\" type:Feature Layer Collection owner:lukehellgren1>,\n",
       " <Item title:\"TCI_NC_exits_2019_05_31_v1\" type:Feature Layer Collection owner:lukehellgren1>,\n",
       " <Item title:\"TCI_NC_exits_2019_05_31_20miBuffer\" type:Feature Layer Collection owner:lukehellgren1>,\n",
       " <Item title:\"TCI_NC_exits_2019_05_31_nodata\" type:Feature Layer Collection owner:lukehellgren1>]"
      ]
     },
     "execution_count": 3,
     "metadata": {},
     "output_type": "execute_result"
    }
   ],
   "source": [
    "#Search on ArcGIS online for NC exits datasets from MJB&A with a query\n",
    "results = gis.content.search(query='NC exits 2019 owner:lukehellgren1')\n",
    "results"
   ]
  },
  {
   "cell_type": "code",
   "execution_count": 5,
   "metadata": {},
   "outputs": [
    {
     "data": {
      "text/html": [
       "<div class=\"item_container\" style=\"height: auto; overflow: hidden; border: 1px solid #cfcfcf; border-radius: 2px; background: #f6fafa; line-height: 1.21429em; padding: 10px;\">\n",
       "                    <div class=\"item_left\" style=\"width: 210px; float: left;\">\n",
       "                       <a href='https://www.arcgis.com/home/item.html?id=591c9dcc30244ddaa6a35d36571b94dd' target='_blank'>\n",
       "                        <img src='https://www.arcgis.com/sharing/rest//content/items/591c9dcc30244ddaa6a35d36571b94dd/info/thumbnail/thumbnail.png' class=\"itemThumbnail\">\n",
       "                       </a>\n",
       "                    </div>\n",
       "\n",
       "                    <div class=\"item_right\"     style=\"float: none; width: auto; overflow: hidden;\">\n",
       "                        <a href='https://www.arcgis.com/home/item.html?id=591c9dcc30244ddaa6a35d36571b94dd' target='_blank'><b>TCI_NC_exits_2019_06_11_v1</b>\n",
       "                        </a>\n",
       "                        <br/>Exits<img src='https://www.arcgis.com/home/js/jsapi/esri/css/images/item_type_icons/featureshosted16.png' style=\"vertical-align:middle;\">Feature Layer Collection by lukehellgren1\n",
       "                        <br/>Last Modified: June 12, 2019\n",
       "                        <br/>0 comments, 323 views\n",
       "                    </div>\n",
       "                </div>\n",
       "                "
      ],
      "text/plain": [
       "<Item title:\"TCI_NC_exits_2019_06_11_v1\" type:Feature Layer Collection owner:lukehellgren1>"
      ]
     },
     "execution_count": 5,
     "metadata": {},
     "output_type": "execute_result"
    }
   ],
   "source": [
    "#Get the most updated dataset from the first returning results\n",
    "theItem = results[0]\n",
    "theItem "
   ]
  },
  {
   "cell_type": "code",
   "execution_count": 6,
   "metadata": {},
   "outputs": [
    {
     "name": "stdout",
     "output_type": "stream",
     "text": [
      "FID\n",
      "Exit_ID\n",
      "Longitude\n",
      "Latitude\n",
      "County\n",
      "State\n",
      "Highway\n",
      "Type\n",
      "AADT\n",
      "Pop_dens\n",
      "Comm_1mi\n",
      "Ports_5mi\n",
      "Ports_10mi\n",
      "Ports_20mi\n",
      "Close_nonT\n"
     ]
    },
    {
     "data": {
      "text/plain": [
       "['PA',\n",
       " 'DE',\n",
       " 'NH',\n",
       " 'MD',\n",
       " 'DC',\n",
       " 'VA',\n",
       " 'ME',\n",
       " 'RI',\n",
       " 'MA',\n",
       " 'NY',\n",
       " 'CT',\n",
       " 'NJ',\n",
       " 'VT',\n",
       " 'NC']"
      ]
     },
     "execution_count": 6,
     "metadata": {},
     "output_type": "execute_result"
    }
   ],
   "source": [
    "#Get the only one feature layer from the item\n",
    "layer = theItem.layers[0]\n",
    "\n",
    "#Print the properties and unique values to filter NC exits \n",
    "for f in layer.properties.fields:\n",
    "    print (f.name)\n",
    "layer.get_unique_values('State')"
   ]
  },
  {
   "cell_type": "code",
   "execution_count": 9,
   "metadata": {},
   "outputs": [
    {
     "data": {
      "text/html": [
       "<div>\n",
       "<style scoped>\n",
       "    .dataframe tbody tr th:only-of-type {\n",
       "        vertical-align: middle;\n",
       "    }\n",
       "\n",
       "    .dataframe tbody tr th {\n",
       "        vertical-align: top;\n",
       "    }\n",
       "\n",
       "    .dataframe thead th {\n",
       "        text-align: right;\n",
       "    }\n",
       "</style>\n",
       "<table border=\"1\" class=\"dataframe\">\n",
       "  <thead>\n",
       "    <tr style=\"text-align: right;\">\n",
       "      <th></th>\n",
       "      <th>FID</th>\n",
       "      <th>Exit_ID</th>\n",
       "      <th>Longitude</th>\n",
       "      <th>Latitude</th>\n",
       "      <th>County</th>\n",
       "      <th>State</th>\n",
       "      <th>Highway</th>\n",
       "      <th>Type</th>\n",
       "      <th>AADT</th>\n",
       "      <th>Pop_dens</th>\n",
       "      <th>Comm_1mi</th>\n",
       "      <th>Ports_5mi</th>\n",
       "      <th>Ports_10mi</th>\n",
       "      <th>Ports_20mi</th>\n",
       "      <th>Close_nonT</th>\n",
       "      <th>SHAPE</th>\n",
       "    </tr>\n",
       "  </thead>\n",
       "  <tbody>\n",
       "    <tr>\n",
       "      <th>0</th>\n",
       "      <td>7059</td>\n",
       "      <td>US-64_Cherokee_NC_Exit_1</td>\n",
       "      <td>-84.314304</td>\n",
       "      <td>35.019492</td>\n",
       "      <td>Cherokee</td>\n",
       "      <td>NC</td>\n",
       "      <td>U.S. Highway 64</td>\n",
       "      <td>Exit/Intersection</td>\n",
       "      <td>3700</td>\n",
       "      <td>60.34979</td>\n",
       "      <td>1</td>\n",
       "      <td>0</td>\n",
       "      <td>0</td>\n",
       "      <td>0</td>\n",
       "      <td>34.094152</td>\n",
       "      <td>{'x': -84.31430368976345, 'y': 35.019491849669...</td>\n",
       "    </tr>\n",
       "    <tr>\n",
       "      <th>1</th>\n",
       "      <td>7060</td>\n",
       "      <td>US-64_Cherokee_NC_Exit_2</td>\n",
       "      <td>-84.311492</td>\n",
       "      <td>35.014933</td>\n",
       "      <td>Cherokee</td>\n",
       "      <td>NC</td>\n",
       "      <td>U.S. Highway 64</td>\n",
       "      <td>Exit/Intersection</td>\n",
       "      <td>3700</td>\n",
       "      <td>60.34979</td>\n",
       "      <td>1</td>\n",
       "      <td>0</td>\n",
       "      <td>0</td>\n",
       "      <td>0</td>\n",
       "      <td>34.365230</td>\n",
       "      <td>{'x': -84.31149165991212, 'y': 35.014933379571...</td>\n",
       "    </tr>\n",
       "    <tr>\n",
       "      <th>2</th>\n",
       "      <td>7061</td>\n",
       "      <td>US-64_Cherokee_NC_Exit_3</td>\n",
       "      <td>-84.295528</td>\n",
       "      <td>35.013561</td>\n",
       "      <td>Cherokee</td>\n",
       "      <td>NC</td>\n",
       "      <td>U.S. Highway 64</td>\n",
       "      <td>Exit/Intersection</td>\n",
       "      <td>3900</td>\n",
       "      <td>60.34979</td>\n",
       "      <td>0</td>\n",
       "      <td>0</td>\n",
       "      <td>0</td>\n",
       "      <td>0</td>\n",
       "      <td>35.233979</td>\n",
       "      <td>{'x': -84.29552778977563, 'y': 35.013560589649...</td>\n",
       "    </tr>\n",
       "    <tr>\n",
       "      <th>3</th>\n",
       "      <td>7062</td>\n",
       "      <td>US-64_Cherokee_NC_Exit_4</td>\n",
       "      <td>-84.280291</td>\n",
       "      <td>35.012880</td>\n",
       "      <td>Cherokee</td>\n",
       "      <td>NC</td>\n",
       "      <td>U.S. Highway 64</td>\n",
       "      <td>Exit/Intersection</td>\n",
       "      <td>3900</td>\n",
       "      <td>60.34979</td>\n",
       "      <td>0</td>\n",
       "      <td>0</td>\n",
       "      <td>0</td>\n",
       "      <td>0</td>\n",
       "      <td>36.048303</td>\n",
       "      <td>{'x': -84.28029090010494, 'y': 35.012879950349...</td>\n",
       "    </tr>\n",
       "    <tr>\n",
       "      <th>4</th>\n",
       "      <td>7063</td>\n",
       "      <td>US-64_Cherokee_NC_Exit_5</td>\n",
       "      <td>-84.275190</td>\n",
       "      <td>35.017816</td>\n",
       "      <td>Cherokee</td>\n",
       "      <td>NC</td>\n",
       "      <td>U.S. Highway 64</td>\n",
       "      <td>Exit/Intersection</td>\n",
       "      <td>3900</td>\n",
       "      <td>60.34979</td>\n",
       "      <td>0</td>\n",
       "      <td>0</td>\n",
       "      <td>0</td>\n",
       "      <td>0</td>\n",
       "      <td>36.186597</td>\n",
       "      <td>{'x': -84.27519011992803, 'y': 35.017816120417...</td>\n",
       "    </tr>\n",
       "  </tbody>\n",
       "</table>\n",
       "</div>"
      ],
      "text/plain": [
       "    FID                   Exit_ID  Longitude   Latitude    County State  \\\n",
       "0  7059  US-64_Cherokee_NC_Exit_1 -84.314304  35.019492  Cherokee    NC   \n",
       "1  7060  US-64_Cherokee_NC_Exit_2 -84.311492  35.014933  Cherokee    NC   \n",
       "2  7061  US-64_Cherokee_NC_Exit_3 -84.295528  35.013561  Cherokee    NC   \n",
       "3  7062  US-64_Cherokee_NC_Exit_4 -84.280291  35.012880  Cherokee    NC   \n",
       "4  7063  US-64_Cherokee_NC_Exit_5 -84.275190  35.017816  Cherokee    NC   \n",
       "\n",
       "           Highway               Type  AADT  Pop_dens  Comm_1mi  Ports_5mi  \\\n",
       "0  U.S. Highway 64  Exit/Intersection  3700  60.34979         1          0   \n",
       "1  U.S. Highway 64  Exit/Intersection  3700  60.34979         1          0   \n",
       "2  U.S. Highway 64  Exit/Intersection  3900  60.34979         0          0   \n",
       "3  U.S. Highway 64  Exit/Intersection  3900  60.34979         0          0   \n",
       "4  U.S. Highway 64  Exit/Intersection  3900  60.34979         0          0   \n",
       "\n",
       "   Ports_10mi  Ports_20mi  Close_nonT  \\\n",
       "0           0           0   34.094152   \n",
       "1           0           0   34.365230   \n",
       "2           0           0   35.233979   \n",
       "3           0           0   36.048303   \n",
       "4           0           0   36.186597   \n",
       "\n",
       "                                               SHAPE  \n",
       "0  {'x': -84.31430368976345, 'y': 35.019491849669...  \n",
       "1  {'x': -84.31149165991212, 'y': 35.014933379571...  \n",
       "2  {'x': -84.29552778977563, 'y': 35.013560589649...  \n",
       "3  {'x': -84.28029090010494, 'y': 35.012879950349...  \n",
       "4  {'x': -84.27519011992803, 'y': 35.017816120417...  "
      ]
     },
     "execution_count": 9,
     "metadata": {},
     "output_type": "execute_result"
    }
   ],
   "source": [
    "#Filter NC data with a query \n",
    "selected_features = layer.query(\"State = 'NC'\")\n",
    "\n",
    "#Convert feature layer into spatial dataframe and check the data \n",
    "sdfFeatures = selected_features.sdf\n",
    "sdfFeatures.head()"
   ]
  },
  {
   "cell_type": "code",
   "execution_count": 46,
   "metadata": {},
   "outputs": [
    {
     "data": {
      "text/plain": [
       "'/home/jovyan/work/Data/MJBA/Exits.shp'"
      ]
     },
     "execution_count": 46,
     "metadata": {},
     "output_type": "execute_result"
    }
   ],
   "source": [
    "#Save the sdf as shp file into assigned folders \n",
    "import os\n",
    "if not os.path.exists('/home/jovyan/work/Data/MJBA'):\n",
    "    os.mkdir('/home/jovyan/work/Data/MJBA')\n",
    "sdfFeatures.spatial.to_featureclass(location='/home/jovyan/work/Data/MJBA/Exits.shp')"
   ]
  }
 ],
 "metadata": {
  "kernelspec": {
   "display_name": "Python 3",
   "language": "python",
   "name": "python3"
  },
  "language_info": {
   "codemirror_mode": {
    "name": "ipython",
    "version": 3
   },
   "file_extension": ".py",
   "mimetype": "text/x-python",
   "name": "python",
   "nbconvert_exporter": "python",
   "pygments_lexer": "ipython3",
   "version": "3.7.3"
  }
 },
 "nbformat": 4,
 "nbformat_minor": 2
}
