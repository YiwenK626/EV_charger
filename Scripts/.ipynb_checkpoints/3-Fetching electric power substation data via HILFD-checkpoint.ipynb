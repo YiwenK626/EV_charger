{
 "cells": [
  {
   "cell_type": "markdown",
   "metadata": {},
   "source": [
    "## Data Fetching Step 3\n",
    "This script fetches electric power substations and prepares for . \n",
    "\n",
    "1. fetch the feature laye with service URL from REST endpoint\n",
    "\n",
    "2. fitler data points in NC \n",
    "\n",
    "3. convert the feature layer to spatial daraframe \n",
    "\n",
    "4. save the spatial dataframe as shp file \n",
    "\n",
    "<i>Yiwen Wang | 04/27/2020</i>"
   ]
  },
  {
   "cell_type": "code",
   "execution_count": 1,
   "metadata": {},
   "outputs": [
    {
     "name": "stderr",
     "output_type": "stream",
     "text": [
      "/opt/conda/lib/python3.7/site-packages/arcgis/features/_data/geodataset/utils.py:16: FutureWarning: The pandas.datetime class is deprecated and will be removed from pandas in a future version. Import from datetime module instead.\n",
      "  pd.datetime,\n"
     ]
    }
   ],
   "source": [
    "from arcgis.features import FeatureLayer"
   ]
  },
  {
   "cell_type": "code",
   "execution_count": 2,
   "metadata": {},
   "outputs": [],
   "source": [
    "#Obtain the feature layer from REST endpoints \n",
    "serviceURL = 'https://services1.arcgis.com/Hp6G80Pky0om7QvQ/ArcGIS/rest/services/Electric_Substations_1/FeatureServer/0'\n",
    "substations_Layer = FeatureLayer(serviceURL)"
   ]
  },
  {
   "cell_type": "code",
   "execution_count": 4,
   "metadata": {},
   "outputs": [],
   "source": [
    "#Check the properties and unique values of state \n",
    "theFields = substations_Layer.properties.fields\n",
    "for f in theFields:\n",
    "    print(f.name)\n",
    "substations_Layer.get_unique_values('STATE')    "
   ]
  },
  {
   "cell_type": "code",
   "execution_count": 11,
   "metadata": {},
   "outputs": [],
   "source": [
    "#Fitler substaitons data in NC \n",
    "nc_substations = substations_Layer.query(\"STATE= 'NC'\")"
   ]
  },
  {
   "cell_type": "code",
   "execution_count": 13,
   "metadata": {},
   "outputs": [],
   "source": [
    "#Convert feature layber to spatial dataframe \n",
    "nc_substations_sdf=nc_substations.sdf"
   ]
  },
  {
   "cell_type": "code",
   "execution_count": 15,
   "metadata": {},
   "outputs": [
    {
     "data": {
      "text/plain": [
       "'/home/jovyan/work/Data/HIFLD/substations.shp'"
      ]
     },
     "execution_count": 15,
     "metadata": {},
     "output_type": "execute_result"
    }
   ],
   "source": [
    "#Save the spatial dataframe as shp file in assigned folder \n",
    "import os \n",
    "if not os.path.exists('/home/jovyan/work/Data/HIFLD'):\n",
    "    os.mkdir('/home/jovyan/work/Data/HIFLD')\n",
    "nc_substations_sdf.spatial.to_featureclass(location = '/home/jovyan/work/Data/HIFLD/substations.shp')"
   ]
  }
 ],
 "metadata": {
  "kernelspec": {
   "display_name": "Python 3",
   "language": "python",
   "name": "python3"
  },
  "language_info": {
   "codemirror_mode": {
    "name": "ipython",
    "version": 3
   },
   "file_extension": ".py",
   "mimetype": "text/x-python",
   "name": "python",
   "nbconvert_exporter": "python",
   "pygments_lexer": "ipython3",
   "version": "3.7.3"
  }
 },
 "nbformat": 4,
 "nbformat_minor": 2
}
