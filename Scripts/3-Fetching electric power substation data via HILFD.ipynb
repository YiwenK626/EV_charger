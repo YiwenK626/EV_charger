{
 "cells": [
  {
   "cell_type": "markdown",
   "metadata": {},
   "source": [
    "## Data Fetching Step 3\n",
    "This script fetches electric power substations and prepares for . \n",
    "\n",
    "1. fetch the feature laye with service URL from REST endpoint\n",
    "\n",
    "2. fitler data points in NC \n",
    "\n",
    "3. convert the feature layer to spatial daraframe \n",
    "\n",
    "4. save the spatial dataframe as shp file \n",
    "\n",
    "<i>Yiwen Wang | 04/27/2020</i>"
   ]
  },
  {
   "cell_type": "code",
   "execution_count": 5,
   "metadata": {},
   "outputs": [
    {
     "name": "stderr",
     "output_type": "stream",
     "text": [
      "/opt/conda/lib/python3.7/site-packages/arcgis/features/_data/geodataset/utils.py:16: FutureWarning: The pandas.datetime class is deprecated and will be removed from pandas in a future version. Import from datetime module instead.\n",
      "  pd.datetime,\n"
     ]
    }
   ],
   "source": [
    "from arcgis.features import FeatureLayer"
   ]
  },
  {
   "cell_type": "code",
   "execution_count": 6,
   "metadata": {},
   "outputs": [],
   "source": [
    "#Obtain the feature layer from REST endpoints \n",
    "serviceURL = 'https://services1.arcgis.com/Hp6G80Pky0om7QvQ/ArcGIS/rest/services/Electric_Substations_1/FeatureServer/0'\n",
    "substations_Layer = FeatureLayer(serviceURL)"
   ]
  },
  {
   "cell_type": "code",
   "execution_count": 7,
   "metadata": {},
   "outputs": [
    {
     "name": "stdout",
     "output_type": "stream",
     "text": [
      "OBJECTID\n",
      "ID\n",
      "NAME\n",
      "CITY\n",
      "STATE\n",
      "ZIP\n",
      "TYPE\n",
      "STATUS\n",
      "COUNTY\n",
      "COUNTYFIPS\n",
      "COUNTRY\n",
      "LATITUDE\n",
      "LONGITUDE\n",
      "NAICS_CODE\n",
      "NAICS_DESC\n",
      "SOURCE\n",
      "SOURCEDATE\n",
      "VAL_METHOD\n",
      "VAL_DATE\n",
      "LINES\n",
      "MAX_VOLT\n",
      "MIN_VOLT\n",
      "MAX_INFER\n",
      "MIN_INFER\n"
     ]
    },
    {
     "data": {
      "text/plain": [
       "['TX',\n",
       " 'KS',\n",
       " 'PA',\n",
       " 'WI',\n",
       " 'DE',\n",
       " 'AB',\n",
       " 'IN',\n",
       " 'IL',\n",
       " 'NH',\n",
       " 'BC',\n",
       " 'MD',\n",
       " 'DC',\n",
       " 'CO',\n",
       " 'MI',\n",
       " 'VA',\n",
       " 'ME',\n",
       " 'AK',\n",
       " 'SC',\n",
       " 'RI',\n",
       " 'GU',\n",
       " 'WA',\n",
       " 'MA',\n",
       " 'MP',\n",
       " 'NV',\n",
       " 'NY',\n",
       " 'OH',\n",
       " 'VI',\n",
       " 'SD',\n",
       " 'CT',\n",
       " 'LA',\n",
       " 'NJ',\n",
       " 'MO',\n",
       " 'OR',\n",
       " 'CA',\n",
       " 'MN',\n",
       " 'MT',\n",
       " 'OK',\n",
       " 'PR',\n",
       " 'FL',\n",
       " 'AR',\n",
       " 'IA',\n",
       " 'VT',\n",
       " 'AL',\n",
       " 'ND',\n",
       " 'ID',\n",
       " 'GA',\n",
       " 'AZ',\n",
       " 'MS',\n",
       " 'TN',\n",
       " 'NC',\n",
       " 'NE',\n",
       " 'WV',\n",
       " 'WY',\n",
       " 'HI',\n",
       " 'SK',\n",
       " 'NM',\n",
       " 'KY',\n",
       " 'UT']"
      ]
     },
     "execution_count": 7,
     "metadata": {},
     "output_type": "execute_result"
    }
   ],
   "source": [
    "#Check the properties and unique values of state \n",
    "theFields = substations_Layer.properties.fields\n",
    "for f in theFields:\n",
    "    print(f.name)\n",
    "substations_Layer.get_unique_values('STATE')    "
   ]
  },
  {
   "cell_type": "code",
   "execution_count": 8,
   "metadata": {},
   "outputs": [],
   "source": [
    "#Fitler substaitons data in NC \n",
    "nc_substations = substations_Layer.query(\"STATE= 'NC'\")"
   ]
  },
  {
   "cell_type": "code",
   "execution_count": 9,
   "metadata": {},
   "outputs": [],
   "source": [
    "#Convert feature layber to spatial dataframe \n",
    "nc_substations_sdf=nc_substations.sdf\n",
    "nc_substations_sdf.spatial.sr = {'wkid':'3857'}"
   ]
  },
  {
   "cell_type": "code",
   "execution_count": 11,
   "metadata": {},
   "outputs": [
    {
     "data": {
      "text/plain": [
       "'../Data/HIFLD/substations.shp'"
      ]
     },
     "execution_count": 11,
     "metadata": {},
     "output_type": "execute_result"
    }
   ],
   "source": [
    "#Save the spatial dataframe as shp file in assigned folder \n",
    "nc_substations_sdf.spatial.to_featureclass(location = '../Data/HIFLD/substations.shp')"
   ]
  },
  {
   "cell_type": "code",
   "execution_count": null,
   "metadata": {},
   "outputs": [],
   "source": []
  }
 ],
 "metadata": {
  "kernelspec": {
   "display_name": "Python 3",
   "language": "python",
   "name": "python3"
  },
  "language_info": {
   "codemirror_mode": {
    "name": "ipython",
    "version": 3
   },
   "file_extension": ".py",
   "mimetype": "text/x-python",
   "name": "python",
   "nbconvert_exporter": "python",
   "pygments_lexer": "ipython3",
   "version": "3.7.3"
  }
 },
 "nbformat": 4,
 "nbformat_minor": 2
}
